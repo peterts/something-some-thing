{
 "cells": [
  {
   "cell_type": "code",
   "execution_count": 125,
   "metadata": {
    "slideshow": {
     "slide_type": "skip"
    }
   },
   "outputs": [],
   "source": [
    "import bz2\n",
    "import os\n",
    "import urllib\n",
    "import subprocess\n",
    "from pathlib import Path\n",
    "import xml.etree.ElementTree as ET\n",
    "from xml import etree\n",
    "import pandas as pd\n",
    "import json\n",
    "from collections import Counter\n",
    "import re\n",
    "import sys\n",
    "import matplotlib.pyplot as plt\n",
    "import numpy as np"
   ]
  },
  {
   "cell_type": "code",
   "execution_count": 68,
   "metadata": {
    "slideshow": {
     "slide_type": "skip"
    }
   },
   "outputs": [],
   "source": [
    "%matplotlib inline"
   ]
  },
  {
   "cell_type": "markdown",
   "metadata": {
    "slideshow": {
     "slide_type": "skip"
    }
   },
   "source": [
    "# Something Some Thing"
   ]
  },
  {
   "cell_type": "markdown",
   "metadata": {
    "slideshow": {
     "slide_type": "skip"
    }
   },
   "source": [
    "Requirments:\n",
    "- Python 3.6\n",
    "- Jupyter Notebooks (do-oh)"
   ]
  },
  {
   "cell_type": "markdown",
   "metadata": {
    "slideshow": {
     "slide_type": "skip"
    }
   },
   "source": [
    "## Download and parse the wikipedia data"
   ]
  },
  {
   "cell_type": "code",
   "execution_count": 2,
   "metadata": {
    "slideshow": {
     "slide_type": "skip"
    }
   },
   "outputs": [],
   "source": [
    "# Data\n",
    "data_url = \"https://dumps.wikimedia.org/nowiki/latest/nowiki-latest-pages-articles-multistream.xml.bz2\"\n",
    "data_dirpath = Path.cwd() / \"data\"\n",
    "data_extracted_dirpath = data_dirpath / \"extracted\"\n",
    "data_filepath = data_dirpath / \"nowiki-latest-pages-articles-multistream.xml.bz2\"\n",
    "\n",
    "#WikiExtractor\n",
    "wikiextractor_github_url = \"https://github.com/attardi/wikiextractor\"\n",
    "wikiextractor_dirpath = Path.cwd() / \"wikiextractor\""
   ]
  },
  {
   "cell_type": "markdown",
   "metadata": {
    "slideshow": {
     "slide_type": "skip"
    }
   },
   "source": [
    "### Download data"
   ]
  },
  {
   "cell_type": "code",
   "execution_count": 3,
   "metadata": {
    "slideshow": {
     "slide_type": "skip"
    }
   },
   "outputs": [
    {
     "name": "stdout",
     "output_type": "stream",
     "text": [
      "Wall time: 498 µs\n"
     ]
    }
   ],
   "source": [
    "%%time\n",
    "if not os.path.exists(data_filepath):\n",
    "    print(f\"Data file '{data_filepath}' not found. Downloading data.\")\n",
    "    if not os.path.exists(data_dirpath):\n",
    "        os.makedirs(data_dirpath)\n",
    "    urllib.request.urlretrieve (data_url, data_filepath)"
   ]
  },
  {
   "cell_type": "markdown",
   "metadata": {
    "slideshow": {
     "slide_type": "skip"
    }
   },
   "source": [
    "### Extract and parse data"
   ]
  },
  {
   "cell_type": "code",
   "execution_count": 4,
   "metadata": {
    "slideshow": {
     "slide_type": "skip"
    }
   },
   "outputs": [],
   "source": [
    "if not os.path.exists(data_extracted_dirpath):\n",
    "    if not os.path.exists(wikiextractor_dirpath):\n",
    "        print(f\"WikiExtractor not found. Cloining WikiExtractor from '{wikiextractor_github_url}'\")\n",
    "        subprocess.Popen(\"git clone {wikiextractor_github_url} {wikiextractor_dirpath}\")\n",
    "    print(f\"Extracting wikipedia articles to '{data_extracted_dirpath}'\")\n",
    "    subprocess.Popen(f\"python {wikiextractor_dirpath}/WikiExtractor.py -o {data_extracted_dirpath} --json {compressed_data_filepath}\")"
   ]
  },
  {
   "cell_type": "markdown",
   "metadata": {
    "slideshow": {
     "slide_type": "skip"
    }
   },
   "source": [
    "### Load data as a pandas DataFrame"
   ]
  },
  {
   "cell_type": "code",
   "execution_count": 5,
   "metadata": {
    "slideshow": {
     "slide_type": "skip"
    }
   },
   "outputs": [],
   "source": [
    "def data_filepath_gen():\n",
    "    for subdir_name, subdir_list, file_list in os.walk(data_extracted_dirpath):\n",
    "        for file_name in file_list:\n",
    "            yield data_extracted_dirpath / subdir_name / file_name"
   ]
  },
  {
   "cell_type": "code",
   "execution_count": 6,
   "metadata": {
    "slideshow": {
     "slide_type": "skip"
    }
   },
   "outputs": [],
   "source": [
    "def json2df(json_filepath):\n",
    "    with open(json_filepath, encoding='utf8') as f:\n",
    "        json_data = [json.loads(line) for line in f]\n",
    "        df = pd.DataFrame(json_data)\n",
    "        return df"
   ]
  },
  {
   "cell_type": "code",
   "execution_count": 7,
   "metadata": {
    "slideshow": {
     "slide_type": "skip"
    }
   },
   "outputs": [],
   "source": [
    "def read_wiki_data(max_articles=None):\n",
    "    num_articles = 0\n",
    "    all_dfs = []\n",
    "    \n",
    "    for filepath in data_filepath_gen():\n",
    "        sub_df = json2df(filepath)\n",
    "        all_dfs.append(sub_df)\n",
    "        num_articles += sub_df.shape[0]\n",
    "        if max_articles is not None and num_articles >= max_articles:\n",
    "            break\n",
    "            \n",
    "    df = pd.concat(all_dfs, axis=0)\n",
    "    df.set_index(\"id\", inplace=True)\n",
    "    if max_articles is not None:\n",
    "        return df.iloc[:max_articles]\n",
    "    return df"
   ]
  },
  {
   "cell_type": "markdown",
   "metadata": {
    "slideshow": {
     "slide_type": "skip"
    }
   },
   "source": [
    "### Read wordcounts directly "
   ]
  },
  {
   "cell_type": "code",
   "execution_count": 8,
   "metadata": {
    "slideshow": {
     "slide_type": "skip"
    }
   },
   "outputs": [],
   "source": [
    "RE_WORD = re.compile(\"[^\\W\\d_]+\")"
   ]
  },
  {
   "cell_type": "code",
   "execution_count": 9,
   "metadata": {
    "slideshow": {
     "slide_type": "skip"
    }
   },
   "outputs": [],
   "source": [
    "def json2wordcounts(json_filepath):\n",
    "    with open(json_filepath, encoding='utf8') as f:\n",
    "        word_counts = Counter()\n",
    "        for line in f:\n",
    "            text = json.loads(line).get(\"text\")\n",
    "            if text is None:\n",
    "                continue\n",
    "            word_counts.update(Counter(RE_WORD.findall(text.lower())))\n",
    "        return word_counts"
   ]
  },
  {
   "cell_type": "code",
   "execution_count": 10,
   "metadata": {
    "slideshow": {
     "slide_type": "skip"
    }
   },
   "outputs": [],
   "source": [
    "def get_wiki_wordcounts():\n",
    "    word_counts = Counter()\n",
    "    for filepath in data_filepath_gen():\n",
    "        word_counts.update(json2wordcounts(filepath))\n",
    "    return word_counts"
   ]
  },
  {
   "cell_type": "markdown",
   "metadata": {
    "slideshow": {
     "slide_type": "skip"
    }
   },
   "source": [
    "# Get the wordcounts"
   ]
  },
  {
   "cell_type": "code",
   "execution_count": 86,
   "metadata": {
    "slideshow": {
     "slide_type": "skip"
    }
   },
   "outputs": [
    {
     "name": "stdout",
     "output_type": "stream",
     "text": [
      "Computed word counts for wikipedia articles (83.89 MB)\n",
      "1.652e+06 unique words found\n",
      "Wall time: 2min 3s\n"
     ]
    }
   ],
   "source": [
    "%%time\n",
    "wiki_word_counts = get_wiki_wordcounts()\n",
    "print(f\"Computed word counts for wikipedia articles ({sys.getsizeof(wiki_word_counts) / 1000000:.2f} MB)\")\n",
    "print(f\"{len(wiki_word_counts):.3e} unique words found\")"
   ]
  },
  {
   "cell_type": "markdown",
   "metadata": {
    "slideshow": {
     "slide_type": "slide"
    }
   },
   "source": [
    "# Something Some Thing\n",
    "\n",
    "Compound Words + NLP != <3"
   ]
  },
  {
   "cell_type": "markdown",
   "metadata": {
    "slideshow": {
     "slide_type": "slide"
    }
   },
   "source": [
    "# What is Natural Language Processing (NLP)?\n",
    "\n",
    "Wikipedia defines NLP as:\n",
    "<font color=\"gray\">_Natural language processing (NLP) is a field of computer science, artificial intelligence and computational linguistics concerned with the interactions between computers and human (natural) languages, and, in particular, concerned with programming computers to fruitfully process large natural language corpora._</font>"
   ]
  },
  {
   "cell_type": "markdown",
   "metadata": {
    "slideshow": {
     "slide_type": "subslide"
    }
   },
   "source": [
    "## Statistical NLP\n",
    "\n",
    "- In the early days NLP typically involved hand coding of rules\n",
    "- Now NLP relies heavily on **Machine Learning** to _statistically_ infer rules from a large collection of text examples (e.g. documents) "
   ]
  },
  {
   "cell_type": "markdown",
   "metadata": {
    "slideshow": {
     "slide_type": "subslide"
    }
   },
   "source": [
    "## What are some use cases of NLP?\n",
    "\n",
    "- Text Categorization\n",
    "- Information Retrieval\n",
    "- Named Entity Recognition\n",
    "- Intent Recognition\n",
    "- Part-of-Speech Tagging\n",
    "- Sentiment Analysis\n",
    "\n",
    "And many other tasks which include extracting information from text, or classifying text"
   ]
  },
  {
   "cell_type": "markdown",
   "metadata": {
    "slideshow": {
     "slide_type": "subslide"
    }
   },
   "source": [
    "## How can Machine Learning be used for NLP?\n",
    "\n",
    "- All Machine Learning algorithms try to map a set of _features_ to some _target_\n",
    "- Each training example given to the ML algortihm must be a _collection of the specified features_\n",
    "- In NLP the examples are _texts_ -> **we need some way of generating features from text**"
   ]
  },
  {
   "cell_type": "markdown",
   "metadata": {
    "slideshow": {
     "slide_type": "subslide"
    }
   },
   "source": [
    "## Words as Features\n",
    "\n",
    "- One common approach is to treat the **words** of the text as the features\n",
    "- The words of a text are all coherent sequences of (alphanumeric) characters, separated by _spaces_"
   ]
  },
  {
   "cell_type": "markdown",
   "metadata": {
    "slideshow": {
     "slide_type": "fragment"
    }
   },
   "source": [
    "For example:"
   ]
  },
  {
   "cell_type": "code",
   "execution_count": 16,
   "metadata": {
    "slideshow": {
     "slide_type": "-"
    }
   },
   "outputs": [
    {
     "data": {
      "text/plain": [
       "['These', 'are', 'five', 'different', 'words']"
      ]
     },
     "execution_count": 16,
     "metadata": {},
     "output_type": "execute_result"
    }
   ],
   "source": [
    "word_pattern = \"[A-Za-z]+\"\n",
    "text = \"These are five different words\"\n",
    "all_words = re.findall(word_pattern, text)\n",
    "all_words"
   ]
  },
  {
   "cell_type": "markdown",
   "metadata": {
    "slideshow": {
     "slide_type": "subslide"
    }
   },
   "source": [
    "## Bag-of-words\n",
    "\n",
    "- All ML algorithms expect the examples to be _collections of numbers_ of _equal length_\n",
    "- -> A list of words is not a valid representation of a text\n",
    "- One algorithm used to transform a text into a collection of numbers is called **bag-of-words**\n",
    "- _Bag-of-words_ maps all unique words into separate columns in your data set"
   ]
  },
  {
   "cell_type": "markdown",
   "metadata": {
    "slideshow": {
     "slide_type": "subslide"
    }
   },
   "source": [
    "## BOW example"
   ]
  },
  {
   "cell_type": "code",
   "execution_count": 14,
   "metadata": {
    "slideshow": {
     "slide_type": "fragment"
    }
   },
   "outputs": [],
   "source": [
    "from sklearn.feature_extraction.text import CountVectorizer"
   ]
  },
  {
   "cell_type": "code",
   "execution_count": 15,
   "metadata": {
    "slideshow": {
     "slide_type": "fragment"
    }
   },
   "outputs": [
    {
     "data": {
      "text/html": [
       "<div>\n",
       "<style scoped>\n",
       "    .dataframe tbody tr th:only-of-type {\n",
       "        vertical-align: middle;\n",
       "    }\n",
       "\n",
       "    .dataframe tbody tr th {\n",
       "        vertical-align: top;\n",
       "    }\n",
       "\n",
       "    .dataframe thead th {\n",
       "        text-align: right;\n",
       "    }\n",
       "</style>\n",
       "<table border=\"1\" class=\"dataframe\">\n",
       "  <thead>\n",
       "    <tr style=\"text-align: right;\">\n",
       "      <th></th>\n",
       "      <th>and</th>\n",
       "      <th>is</th>\n",
       "      <th>other</th>\n",
       "      <th>some</th>\n",
       "      <th>text</th>\n",
       "      <th>this</th>\n",
       "    </tr>\n",
       "  </thead>\n",
       "  <tbody>\n",
       "    <tr>\n",
       "      <th>0</th>\n",
       "      <td>0</td>\n",
       "      <td>1</td>\n",
       "      <td>0</td>\n",
       "      <td>1</td>\n",
       "      <td>1</td>\n",
       "      <td>1</td>\n",
       "    </tr>\n",
       "    <tr>\n",
       "      <th>1</th>\n",
       "      <td>1</td>\n",
       "      <td>1</td>\n",
       "      <td>1</td>\n",
       "      <td>1</td>\n",
       "      <td>1</td>\n",
       "      <td>1</td>\n",
       "    </tr>\n",
       "    <tr>\n",
       "      <th>2</th>\n",
       "      <td>0</td>\n",
       "      <td>0</td>\n",
       "      <td>0</td>\n",
       "      <td>0</td>\n",
       "      <td>4</td>\n",
       "      <td>0</td>\n",
       "    </tr>\n",
       "  </tbody>\n",
       "</table>\n",
       "</div>"
      ],
      "text/plain": [
       "   and  is  other  some  text  this\n",
       "0    0   1      0     1     1     1\n",
       "1    1   1      1     1     1     1\n",
       "2    0   0      0     0     4     0"
      ]
     },
     "execution_count": 15,
     "metadata": {},
     "output_type": "execute_result"
    }
   ],
   "source": [
    "texts = [\n",
    "    \"This is some text\",\n",
    "    \"And this is some other text\",\n",
    "    \"Text text text text\"\n",
    "]\n",
    "\n",
    "vec = CountVectorizer()\n",
    "bow = vec.fit_transform(texts)\n",
    "\n",
    "pd.DataFrame(bow.todense(), columns=vec.get_feature_names())"
   ]
  },
  {
   "cell_type": "markdown",
   "metadata": {
    "slideshow": {
     "slide_type": "slide"
    }
   },
   "source": [
    "# Why is Compound Words + NLP a bad match?"
   ]
  },
  {
   "cell_type": "markdown",
   "metadata": {
    "slideshow": {
     "slide_type": "subslide"
    }
   },
   "source": [
    "## What are compound words?\n",
    "\n",
    "- Compound words are words that consist of more than one stem. \n",
    "- One example is the word \"særskrivingsfeil\" which consists of the stems \"særskriving\" and \"feil\"\n",
    "- In Scandinavian languages compound words are very common"
   ]
  },
  {
   "cell_type": "markdown",
   "metadata": {
    "slideshow": {
     "slide_type": "fragment"
    }
   },
   "source": [
    "- In English they are very rare\n",
    "- A lot of traditional NLP techniques were designed for english..."
   ]
  },
  {
   "cell_type": "markdown",
   "metadata": {
    "slideshow": {
     "slide_type": "subslide"
    }
   },
   "source": [
    "# Why do they cause trouble in NLP?"
   ]
  },
  {
   "cell_type": "code",
   "execution_count": 16,
   "metadata": {
    "slideshow": {
     "slide_type": "fragment"
    }
   },
   "outputs": [
    {
     "data": {
      "text/html": [
       "<div>\n",
       "<style scoped>\n",
       "    .dataframe tbody tr th:only-of-type {\n",
       "        vertical-align: middle;\n",
       "    }\n",
       "\n",
       "    .dataframe tbody tr th {\n",
       "        vertical-align: top;\n",
       "    }\n",
       "\n",
       "    .dataframe thead th {\n",
       "        text-align: right;\n",
       "    }\n",
       "</style>\n",
       "<table border=\"1\" class=\"dataframe\">\n",
       "  <thead>\n",
       "    <tr style=\"text-align: right;\">\n",
       "      <th></th>\n",
       "      <th>en</th>\n",
       "      <th>for</th>\n",
       "      <th>har</th>\n",
       "      <th>jeg</th>\n",
       "      <th>regning</th>\n",
       "      <th>reise</th>\n",
       "      <th>reiseregning</th>\n",
       "    </tr>\n",
       "  </thead>\n",
       "  <tbody>\n",
       "    <tr>\n",
       "      <th>0</th>\n",
       "      <td>1</td>\n",
       "      <td>0</td>\n",
       "      <td>1</td>\n",
       "      <td>1</td>\n",
       "      <td>0</td>\n",
       "      <td>0</td>\n",
       "      <td>1</td>\n",
       "    </tr>\n",
       "    <tr>\n",
       "      <th>1</th>\n",
       "      <td>2</td>\n",
       "      <td>1</td>\n",
       "      <td>1</td>\n",
       "      <td>1</td>\n",
       "      <td>1</td>\n",
       "      <td>1</td>\n",
       "      <td>0</td>\n",
       "    </tr>\n",
       "  </tbody>\n",
       "</table>\n",
       "</div>"
      ],
      "text/plain": [
       "   en  for  har  jeg  regning  reise  reiseregning\n",
       "0   1    0    1    1        0      0             1\n",
       "1   2    1    1    1        1      1             0"
      ]
     },
     "execution_count": 16,
     "metadata": {},
     "output_type": "execute_result"
    }
   ],
   "source": [
    "texts = [\n",
    "    \"Jeg har en reiseregning\",\n",
    "    \"Jeg har en regning for en reise\"\n",
    "]\n",
    "\n",
    "vec = CountVectorizer()\n",
    "bow = vec.fit_transform(texts)\n",
    "\n",
    "pd.DataFrame(bow.todense(), columns=vec.get_feature_names())"
   ]
  },
  {
   "cell_type": "markdown",
   "metadata": {
    "slideshow": {
     "slide_type": "fragment"
    }
   },
   "source": [
    "Text similarity (cosine similarity)"
   ]
  },
  {
   "cell_type": "code",
   "execution_count": 17,
   "metadata": {
    "slideshow": {
     "slide_type": "-"
    }
   },
   "outputs": [
    {
     "data": {
      "text/plain": [
       "0.5714285714285714"
      ]
     },
     "execution_count": 17,
     "metadata": {},
     "output_type": "execute_result"
    }
   ],
   "source": [
    "bow[0].dot(bow[1].T)[0,0] / bow.shape[1]"
   ]
  },
  {
   "cell_type": "markdown",
   "metadata": {
    "slideshow": {
     "slide_type": "subslide"
    }
   },
   "source": [
    "### And when removing stopwords ..."
   ]
  },
  {
   "cell_type": "code",
   "execution_count": 28,
   "metadata": {
    "slideshow": {
     "slide_type": "fragment"
    }
   },
   "outputs": [
    {
     "data": {
      "text/html": [
       "<div>\n",
       "<style scoped>\n",
       "    .dataframe tbody tr th:only-of-type {\n",
       "        vertical-align: middle;\n",
       "    }\n",
       "\n",
       "    .dataframe tbody tr th {\n",
       "        vertical-align: top;\n",
       "    }\n",
       "\n",
       "    .dataframe thead th {\n",
       "        text-align: right;\n",
       "    }\n",
       "</style>\n",
       "<table border=\"1\" class=\"dataframe\">\n",
       "  <thead>\n",
       "    <tr style=\"text-align: right;\">\n",
       "      <th></th>\n",
       "      <th>regning</th>\n",
       "      <th>reise</th>\n",
       "      <th>reiseregning</th>\n",
       "    </tr>\n",
       "  </thead>\n",
       "  <tbody>\n",
       "    <tr>\n",
       "      <th>0</th>\n",
       "      <td>0</td>\n",
       "      <td>0</td>\n",
       "      <td>1</td>\n",
       "    </tr>\n",
       "    <tr>\n",
       "      <th>1</th>\n",
       "      <td>1</td>\n",
       "      <td>1</td>\n",
       "      <td>0</td>\n",
       "    </tr>\n",
       "  </tbody>\n",
       "</table>\n",
       "</div>"
      ],
      "text/plain": [
       "   regning  reise  reiseregning\n",
       "0        0      0             1\n",
       "1        1      1             0"
      ]
     },
     "execution_count": 28,
     "metadata": {},
     "output_type": "execute_result"
    }
   ],
   "source": [
    "stopwords = [\"jeg\", \"har\", \"en\", \"for\"]\n",
    "\n",
    "vec = CountVectorizer(stop_words=stopwords)\n",
    "bow = vec.fit_transform(texts)\n",
    "\n",
    "pd.DataFrame(bow.todense(), columns=vec.get_feature_names())"
   ]
  },
  {
   "cell_type": "markdown",
   "metadata": {
    "slideshow": {
     "slide_type": "fragment"
    }
   },
   "source": [
    "Text similarity (cosine distance)"
   ]
  },
  {
   "cell_type": "code",
   "execution_count": 29,
   "metadata": {
    "slideshow": {
     "slide_type": "-"
    }
   },
   "outputs": [
    {
     "data": {
      "text/plain": [
       "0.0"
      ]
     },
     "execution_count": 29,
     "metadata": {},
     "output_type": "execute_result"
    }
   ],
   "source": [
    "bow[0].dot(bow[1].T)[0,0] / bow.shape[1]"
   ]
  },
  {
   "cell_type": "markdown",
   "metadata": {
    "slideshow": {
     "slide_type": "fragment"
    }
   },
   "source": [
    "Aka not good ..."
   ]
  },
  {
   "cell_type": "markdown",
   "metadata": {
    "slideshow": {
     "slide_type": "subslide"
    }
   },
   "source": [
    "# Compound words => Many, very rare features + subword-information is lost"
   ]
  },
  {
   "cell_type": "markdown",
   "metadata": {
    "slideshow": {
     "slide_type": "slide"
    }
   },
   "source": [
    "# What if we could create some mapping between compounds and the stems they are created from?"
   ]
  },
  {
   "cell_type": "markdown",
   "metadata": {
    "slideshow": {
     "slide_type": "subslide"
    }
   },
   "source": [
    "## Example"
   ]
  },
  {
   "cell_type": "code",
   "execution_count": 23,
   "metadata": {
    "slideshow": {
     "slide_type": "-"
    }
   },
   "outputs": [
    {
     "data": {
      "text/plain": [
       "['Jeg har en reise regning', 'Jeg har en regning for en reise']"
      ]
     },
     "execution_count": 23,
     "metadata": {},
     "output_type": "execute_result"
    }
   ],
   "source": [
    "mapping = {\n",
    "    \"reiseregning\": \"reise regning\"\n",
    "}\n",
    "\n",
    "clean_text = lambda text: \" \".join([mapping.get(x, x) for x in text.split()])\n",
    " \n",
    "texts2 = [clean_text(text) for text in texts]\n",
    "texts2"
   ]
  },
  {
   "cell_type": "code",
   "execution_count": 24,
   "metadata": {
    "scrolled": true,
    "slideshow": {
     "slide_type": "subslide"
    }
   },
   "outputs": [
    {
     "data": {
      "text/html": [
       "<div>\n",
       "<style scoped>\n",
       "    .dataframe tbody tr th:only-of-type {\n",
       "        vertical-align: middle;\n",
       "    }\n",
       "\n",
       "    .dataframe tbody tr th {\n",
       "        vertical-align: top;\n",
       "    }\n",
       "\n",
       "    .dataframe thead th {\n",
       "        text-align: right;\n",
       "    }\n",
       "</style>\n",
       "<table border=\"1\" class=\"dataframe\">\n",
       "  <thead>\n",
       "    <tr style=\"text-align: right;\">\n",
       "      <th></th>\n",
       "      <th>regning</th>\n",
       "      <th>reise</th>\n",
       "    </tr>\n",
       "  </thead>\n",
       "  <tbody>\n",
       "    <tr>\n",
       "      <th>0</th>\n",
       "      <td>1</td>\n",
       "      <td>1</td>\n",
       "    </tr>\n",
       "    <tr>\n",
       "      <th>1</th>\n",
       "      <td>1</td>\n",
       "      <td>1</td>\n",
       "    </tr>\n",
       "  </tbody>\n",
       "</table>\n",
       "</div>"
      ],
      "text/plain": [
       "   regning  reise\n",
       "0        1      1\n",
       "1        1      1"
      ]
     },
     "execution_count": 24,
     "metadata": {},
     "output_type": "execute_result"
    }
   ],
   "source": [
    "vec = CountVectorizer(stop_words=stopwords)\n",
    "bow = vec.fit_transform(texts2)\n",
    "\n",
    "pd.DataFrame(bow.todense(), columns=vec.get_feature_names())"
   ]
  },
  {
   "cell_type": "markdown",
   "metadata": {
    "slideshow": {
     "slide_type": "-"
    }
   },
   "source": [
    "Text similarity (cosine distance)"
   ]
  },
  {
   "cell_type": "code",
   "execution_count": 25,
   "metadata": {
    "slideshow": {
     "slide_type": "-"
    }
   },
   "outputs": [
    {
     "data": {
      "text/plain": [
       "1.0"
      ]
     },
     "execution_count": 25,
     "metadata": {},
     "output_type": "execute_result"
    }
   ],
   "source": [
    "bow[0].dot(bow[1].T)[0,0] / bow.shape[1]"
   ]
  },
  {
   "cell_type": "markdown",
   "metadata": {
    "slideshow": {
     "slide_type": "fragment"
    }
   },
   "source": [
    "Much better!"
   ]
  },
  {
   "cell_type": "markdown",
   "metadata": {
    "slideshow": {
     "slide_type": "subslide"
    }
   },
   "source": [
    "# How can we find this mapping?"
   ]
  },
  {
   "cell_type": "markdown",
   "metadata": {
    "slideshow": {
     "slide_type": "subslide"
    }
   },
   "source": [
    "## Option 1: Manually define all valid word stems, or find a dictionary of stems"
   ]
  },
  {
   "cell_type": "markdown",
   "metadata": {
    "slideshow": {
     "slide_type": "fragment"
    }
   },
   "source": [
    "<center><img src=\"https://memegenerator.net/img/instances/60127190.jpg\"></center>"
   ]
  },
  {
   "cell_type": "markdown",
   "metadata": {
    "slideshow": {
     "slide_type": "subslide"
    }
   },
   "source": [
    "## Option 2: Automatically find a list of words from your own corpora"
   ]
  },
  {
   "cell_type": "markdown",
   "metadata": {
    "slideshow": {
     "slide_type": "fragment"
    }
   },
   "source": [
    "<center><img src=\"https://media1.tenor.com/images/b5b525642d31fc32571618da55f973e5/tenor.gif?itemid=4786736\"></center>"
   ]
  },
  {
   "cell_type": "markdown",
   "metadata": {
    "slideshow": {
     "slide_type": "slide"
    }
   },
   "source": [
    "# Algorithm for automatic compound word splitting"
   ]
  },
  {
   "cell_type": "markdown",
   "metadata": {
    "slideshow": {
     "slide_type": "subslide"
    }
   },
   "source": [
    "## Algorithm for automatic compound word splitting\n",
    "\n",
    "1. Extract all valid words from your corpora, and their counts\n",
    "2. Discard any words that are _too rare_ or _too common_ (stopwords)\n",
    "3. For all words of length >= n:\n",
    "    - consider all possible splits of the word\n",
    "    - choose the most probable split, or no split"
   ]
  },
  {
   "cell_type": "markdown",
   "metadata": {
    "slideshow": {
     "slide_type": "subslide"
    }
   },
   "source": [
    "## Step 1: Finding all valid words"
   ]
  },
  {
   "cell_type": "code",
   "execution_count": 36,
   "metadata": {
    "slideshow": {
     "slide_type": "-"
    }
   },
   "outputs": [
    {
     "name": "stdout",
     "output_type": "stream",
     "text": [
      "Akershus\n",
      "\n",
      "Akershus (fra norrønt \"akr\", åker, og \"hús\", borg eller kastell) er et norsk fylke, som grenser mot Hedmark i øst, Oppland i nord, Buskerud i vest, Østfold i sør og Oslo. Dessuten har Akershus (i kommunen Aurskog-Høland) en liten bit av riksgrensen mot Sverige i øst.\n",
      "\n",
      "Akershus er delt i tre regioner: Romerike, Follo og Vestområdet,\n",
      "hvorav sistnevnte med kommunene Asker og Bærum ligger vest for Oslofjorden og sydvest for Oslo. Øst for Oslofjorden ligger Follo, mens Romerike ligger øst o ...\n"
     ]
    }
   ],
   "source": [
    "article = read_wiki_data(1).iloc[0]\n",
    "print(f\"{article.text[:500]} ...\")"
   ]
  },
  {
   "cell_type": "code",
   "execution_count": 37,
   "metadata": {
    "slideshow": {
     "slide_type": "-"
    }
   },
   "outputs": [],
   "source": [
    "from collections import Counter"
   ]
  },
  {
   "cell_type": "code",
   "execution_count": 46,
   "metadata": {
    "scrolled": true,
    "slideshow": {
     "slide_type": "-"
    }
   },
   "outputs": [],
   "source": [
    "RE_WORD = re.compile(\"[^\\W\\d_]+\")\n",
    "article_word_counts = Counter(RE_WORD.findall(article.text.lower()))"
   ]
  },
  {
   "cell_type": "code",
   "execution_count": 51,
   "metadata": {
    "slideshow": {
     "slide_type": "-"
    }
   },
   "outputs": [
    {
     "data": {
      "text/plain": [
       "[('og', 60), ('i', 60), ('akershus', 39), ('er', 39), ('oslo', 19)]"
      ]
     },
     "execution_count": 51,
     "metadata": {},
     "output_type": "execute_result"
    }
   ],
   "source": [
    "article_word_counts.most_common(5)"
   ]
  },
  {
   "cell_type": "markdown",
   "metadata": {
    "slideshow": {
     "slide_type": "subslide"
    }
   },
   "source": [
    "## If we repeat this for all norwegian wikipedia articles..."
   ]
  },
  {
   "cell_type": "code",
   "execution_count": 58,
   "metadata": {
    "slideshow": {
     "slide_type": "-"
    }
   },
   "outputs": [
    {
     "data": {
      "text/plain": [
       "[('i', 3953876),\n",
       " ('og', 2879012),\n",
       " ('av', 1715924),\n",
       " ('som', 1552470),\n",
       " ('en', 1496552),\n",
       " ('er', 1409112),\n",
       " ('til', 1257523),\n",
       " ('på', 1169964),\n",
       " ('ble', 998262),\n",
       " ('den', 983530)]"
      ]
     },
     "execution_count": 58,
     "metadata": {},
     "output_type": "execute_result"
    }
   ],
   "source": [
    "wiki_word_counts.most_common(10)"
   ]
  },
  {
   "cell_type": "markdown",
   "metadata": {
    "slideshow": {
     "slide_type": "subslide"
    }
   },
   "source": [
    "### Word count histogram"
   ]
  },
  {
   "cell_type": "code",
   "execution_count": 76,
   "metadata": {
    "scrolled": true,
    "slideshow": {
     "slide_type": "-"
    }
   },
   "outputs": [
    {
     "data": {
      "text/plain": [
       "[]"
      ]
     },
     "execution_count": 76,
     "metadata": {},
     "output_type": "execute_result"
    },
    {
     "data": {
      "image/png": "[encoded data removed]",
      "text/plain": [
       "<matplotlib.figure.Figure at 0x1eb00fc0160>"
      ]
     },
     "metadata": {},
     "output_type": "display_data"
    }
   ],
   "source": [
    "plt.hist(wiki_word_counts.values())\n",
    "plt.plot()"
   ]
  },
  {
   "cell_type": "markdown",
   "metadata": {
    "slideshow": {
     "slide_type": "-"
    }
   },
   "source": [
    "Many very rare features ..."
   ]
  },
  {
   "cell_type": "markdown",
   "metadata": {
    "slideshow": {
     "slide_type": "subslide"
    }
   },
   "source": [
    "Total number of unique words:"
   ]
  },
  {
   "cell_type": "code",
   "execution_count": 62,
   "metadata": {
    "slideshow": {
     "slide_type": "-"
    }
   },
   "outputs": [
    {
     "name": "stdout",
     "output_type": "stream",
     "text": [
      "1.65e+06 words\n"
     ]
    }
   ],
   "source": [
    "print(f\"{len(wiki_word_counts):.2e} words\")"
   ]
  },
  {
   "cell_type": "markdown",
   "metadata": {},
   "source": [
    "Number of words used at most _n_ times:"
   ]
  },
  {
   "cell_type": "code",
   "execution_count": 105,
   "metadata": {},
   "outputs": [
    {
     "name": "stdout",
     "output_type": "stream",
     "text": [
      "8.41e+05 words\n"
     ]
    }
   ],
   "source": [
    "n = 1\n",
    "print(f\"{len([w for w, c in wiki_word_counts.items() if c <= n]):.2e} words\")"
   ]
  },
  {
   "cell_type": "markdown",
   "metadata": {
    "slideshow": {
     "slide_type": "subslide"
    }
   },
   "source": [
    "## Step 2: Discard words that are too common or too rare"
   ]
  },
  {
   "cell_type": "markdown",
   "metadata": {
    "slideshow": {
     "slide_type": "subslide"
    }
   },
   "source": [
    "### Drop words that are too common"
   ]
  },
  {
   "cell_type": "code",
   "execution_count": 106,
   "metadata": {
    "slideshow": {
     "slide_type": "-"
    }
   },
   "outputs": [],
   "source": [
    "from nltk.corpus import stopwords"
   ]
  },
  {
   "cell_type": "code",
   "execution_count": 107,
   "metadata": {
    "slideshow": {
     "slide_type": "-"
    }
   },
   "outputs": [
    {
     "data": {
      "text/plain": [
       "['og', 'i', 'jeg', 'det', 'at', 'en', 'et', 'den', 'til', 'er']"
      ]
     },
     "execution_count": 107,
     "metadata": {},
     "output_type": "execute_result"
    }
   ],
   "source": [
    "stopwords.words(\"norwegian\")[:10]"
   ]
  },
  {
   "cell_type": "code",
   "execution_count": 108,
   "metadata": {
    "slideshow": {
     "slide_type": "-"
    }
   },
   "outputs": [],
   "source": [
    "wiki_word_counts2 = wiki_word_counts.copy()\n",
    "for sw in stopwords.words(\"norwegian\"):\n",
    "    if sw not in wiki_word_counts2:\n",
    "        continue\n",
    "    wiki_word_counts2.pop(sw)"
   ]
  },
  {
   "cell_type": "code",
   "execution_count": 109,
   "metadata": {
    "slideshow": {
     "slide_type": "-"
    }
   },
   "outputs": [
    {
     "data": {
      "text/plain": [
       "[('under', 250723), ('andre', 180805), ('første', 172290)]"
      ]
     },
     "execution_count": 109,
     "metadata": {},
     "output_type": "execute_result"
    }
   ],
   "source": [
    "wiki_word_counts2.most_common(3)"
   ]
  },
  {
   "cell_type": "markdown",
   "metadata": {
    "slideshow": {
     "slide_type": "subslide"
    }
   },
   "source": [
    "### Drop words that are too rare"
   ]
  },
  {
   "cell_type": "code",
   "execution_count": 110,
   "metadata": {
    "slideshow": {
     "slide_type": "-"
    }
   },
   "outputs": [],
   "source": [
    "min_word_count = 3\n",
    "wiki_word_counts2 = {w: c for w, c in wiki_word_counts2.items() if c >= min_word_count}\n",
    "wiki_word_counts2 = Counter(wiki_word_counts2)"
   ]
  },
  {
   "cell_type": "markdown",
   "metadata": {
    "slideshow": {
     "slide_type": "-"
    }
   },
   "source": [
    "Number of words left:"
   ]
  },
  {
   "cell_type": "code",
   "execution_count": 111,
   "metadata": {
    "slideshow": {
     "slide_type": "-"
    }
   },
   "outputs": [
    {
     "name": "stdout",
     "output_type": "stream",
     "text": [
      "5.68e+05 words\n"
     ]
    }
   ],
   "source": [
    "print(f\"{len(wiki_word_counts2):.2e} words\")"
   ]
  },
  {
   "cell_type": "markdown",
   "metadata": {
    "slideshow": {
     "slide_type": "subslide"
    }
   },
   "source": [
    "### Select only words consiting of at least 3 characters"
   ]
  },
  {
   "cell_type": "code",
   "execution_count": 286,
   "metadata": {
    "slideshow": {
     "slide_type": "-"
    }
   },
   "outputs": [],
   "source": [
    "min_word_length = 3\n",
    "wiki_word_counts2 = {w: c for w, c in wiki_word_counts2.items() if len(w) >= min_word_length}\n",
    "wiki_word_counts2 = Counter(wiki_word_counts2)"
   ]
  },
  {
   "cell_type": "markdown",
   "metadata": {
    "slideshow": {
     "slide_type": "-"
    }
   },
   "source": [
    "Number of words left:"
   ]
  },
  {
   "cell_type": "code",
   "execution_count": 287,
   "metadata": {
    "slideshow": {
     "slide_type": "-"
    }
   },
   "outputs": [
    {
     "name": "stdout",
     "output_type": "stream",
     "text": [
      "5.65e+05 words\n"
     ]
    }
   ],
   "source": [
    "print(f\"{len(wiki_word_counts2):.2e} words\")"
   ]
  },
  {
   "cell_type": "markdown",
   "metadata": {
    "slideshow": {
     "slide_type": "subslide"
    }
   },
   "source": [
    "# We now how a pretty good dictionary!"
   ]
  },
  {
   "cell_type": "markdown",
   "metadata": {
    "slideshow": {
     "slide_type": "subslide"
    }
   },
   "source": [
    "## Step 3: Find the most probable split of a word\n",
    "\n",
    "Key ideas: \n",
    "- All words after the split must be valid words\n",
    "- The split resulting in the _highest total word count_ for the subwords, is the most probable"
   ]
  },
  {
   "cell_type": "markdown",
   "metadata": {
    "slideshow": {
     "slide_type": "subslide"
    }
   },
   "source": [
    "### Example: Reise + Regning > Reiseregning"
   ]
  },
  {
   "cell_type": "code",
   "execution_count": 97,
   "metadata": {
    "slideshow": {
     "slide_type": "-"
    }
   },
   "outputs": [
    {
     "data": {
      "text/plain": [
       "7234"
      ]
     },
     "execution_count": 97,
     "metadata": {},
     "output_type": "execute_result"
    }
   ],
   "source": [
    "wiki_word_counts2[\"reise\"]"
   ]
  },
  {
   "cell_type": "code",
   "execution_count": 98,
   "metadata": {
    "slideshow": {
     "slide_type": "-"
    }
   },
   "outputs": [
    {
     "data": {
      "text/plain": [
       "369"
      ]
     },
     "execution_count": 98,
     "metadata": {},
     "output_type": "execute_result"
    }
   ],
   "source": [
    "wiki_word_counts2[\"regning\"]"
   ]
  },
  {
   "cell_type": "code",
   "execution_count": 99,
   "metadata": {
    "slideshow": {
     "slide_type": "-"
    }
   },
   "outputs": [
    {
     "data": {
      "text/plain": [
       "0"
      ]
     },
     "execution_count": 99,
     "metadata": {},
     "output_type": "execute_result"
    }
   ],
   "source": [
    "wiki_word_counts2[\"reiseregning\"]"
   ]
  },
  {
   "cell_type": "code",
   "execution_count": 100,
   "metadata": {
    "slideshow": {
     "slide_type": "-"
    }
   },
   "outputs": [
    {
     "data": {
      "text/plain": [
       "True"
      ]
     },
     "execution_count": 100,
     "metadata": {},
     "output_type": "execute_result"
    }
   ],
   "source": [
    "wiki_word_counts2[\"reise\"] + wiki_word_counts2[\"regning\"] > wiki_word_counts2[\"reiseregning\"]"
   ]
  },
  {
   "cell_type": "markdown",
   "metadata": {
    "slideshow": {
     "slide_type": "subslide"
    }
   },
   "source": [
    "## Defining the split cost"
   ]
  },
  {
   "cell_type": "code",
   "execution_count": 180,
   "metadata": {
    "slideshow": {
     "slide_type": "-"
    }
   },
   "outputs": [],
   "source": [
    "INF = 1e9\n",
    "\n",
    "def split_value(*subwords):\n",
    "    return sum(wiki_word_counts2.get(sw, -INF) for sw in subwords)"
   ]
  },
  {
   "cell_type": "code",
   "execution_count": 181,
   "metadata": {
    "slideshow": {
     "slide_type": "-"
    }
   },
   "outputs": [
    {
     "data": {
      "text/plain": [
       "7603"
      ]
     },
     "execution_count": 181,
     "metadata": {},
     "output_type": "execute_result"
    }
   ],
   "source": [
    "split_value(\"reise\", \"regning\")"
   ]
  },
  {
   "cell_type": "code",
   "execution_count": 182,
   "metadata": {
    "slideshow": {
     "slide_type": "-"
    }
   },
   "outputs": [
    {
     "data": {
      "text/plain": [
       "-1000000000.0"
      ]
     },
     "execution_count": 182,
     "metadata": {},
     "output_type": "execute_result"
    }
   ],
   "source": [
    "split_value(\"reiseregning\")"
   ]
  },
  {
   "cell_type": "markdown",
   "metadata": {
    "slideshow": {
     "slide_type": "subslide"
    }
   },
   "source": [
    "## Problem: very common words dominating"
   ]
  },
  {
   "cell_type": "markdown",
   "metadata": {
    "slideshow": {
     "slide_type": "-"
    }
   },
   "source": [
    "A word appearing 100,000 is probably not 100 times more probable than a word appearing 1000 times. A word appearing 1000 times is still a very common word."
   ]
  },
  {
   "cell_type": "markdown",
   "metadata": {
    "slideshow": {
     "slide_type": "subslide"
    }
   },
   "source": [
    "## Solution: use the _log_ of the word count instead"
   ]
  },
  {
   "cell_type": "code",
   "execution_count": 145,
   "metadata": {
    "slideshow": {
     "slide_type": "-"
    }
   },
   "outputs": [],
   "source": [
    "from math import log"
   ]
  },
  {
   "cell_type": "code",
   "execution_count": 193,
   "metadata": {
    "slideshow": {
     "slide_type": "-"
    }
   },
   "outputs": [],
   "source": [
    "def word_value(word):\n",
    "    if word in wiki_word_counts2:\n",
    "        return log(wiki_word_counts2[word])\n",
    "    return -INF\n",
    "\n",
    "def split_value2(*subwords):\n",
    "    return sum(word_value(subword) for subword in subwords)"
   ]
  },
  {
   "cell_type": "code",
   "execution_count": 194,
   "metadata": {},
   "outputs": [
    {
     "data": {
      "text/plain": [
       "14.79734405655257"
      ]
     },
     "execution_count": 194,
     "metadata": {},
     "output_type": "execute_result"
    }
   ],
   "source": [
    "split_value2(\"reise\", \"regning\")"
   ]
  },
  {
   "cell_type": "code",
   "execution_count": 195,
   "metadata": {
    "slideshow": {
     "slide_type": "-"
    }
   },
   "outputs": [
    {
     "data": {
      "text/plain": [
       "-1000000000.0"
      ]
     },
     "execution_count": 195,
     "metadata": {},
     "output_type": "execute_result"
    }
   ],
   "source": [
    "split_value2(\"reiseregning\")"
   ]
  },
  {
   "cell_type": "markdown",
   "metadata": {
    "slideshow": {
     "slide_type": "subslide"
    }
   },
   "source": [
    "## How does the _log_ function look?"
   ]
  },
  {
   "cell_type": "code",
   "execution_count": 136,
   "metadata": {
    "slideshow": {
     "slide_type": "-"
    }
   },
   "outputs": [
    {
     "data": {
      "image/png": "[encoded data removed]",
      "text/plain": [
       "<matplotlib.figure.Figure at 0x1eb14aade80>"
      ]
     },
     "metadata": {},
     "output_type": "display_data"
    }
   ],
   "source": [
    "x = np.arange(0.0001, 10000)\n",
    "y = np.log(x)\n",
    "plt.plot(x, y)\n",
    "plt.show()"
   ]
  },
  {
   "cell_type": "code",
   "execution_count": 152,
   "metadata": {
    "slideshow": {
     "slide_type": "-"
    }
   },
   "outputs": [
    {
     "name": "stdout",
     "output_type": "stream",
     "text": [
      "100000/100 = 1000.0\n",
      "log(100000) / log(100) = 2.5\n"
     ]
    }
   ],
   "source": [
    "print(f\"100000/100 = {100000/100}\")\n",
    "print(f\"log(100000) / log(100) = {log(100000) / log(100)}\")"
   ]
  },
  {
   "cell_type": "markdown",
   "metadata": {
    "slideshow": {
     "slide_type": "subslide"
    }
   },
   "source": [
    "# Case: To split or not to split"
   ]
  },
  {
   "cell_type": "markdown",
   "metadata": {
    "slideshow": {
     "slide_type": "-"
    }
   },
   "source": [
    "If the word \"reiseregning\" appears 2000 times in your corpora, and the words \"reise\" and \"regning\" appear 500 times each - should we stil split it?"
   ]
  },
  {
   "cell_type": "code",
   "execution_count": 187,
   "metadata": {
    "slideshow": {
     "slide_type": "-"
    }
   },
   "outputs": [
    {
     "data": {
      "text/plain": [
       "12.429216196844383"
      ]
     },
     "execution_count": 187,
     "metadata": {},
     "output_type": "execute_result"
    }
   ],
   "source": [
    "log(500) + log(500)"
   ]
  },
  {
   "cell_type": "code",
   "execution_count": 188,
   "metadata": {
    "slideshow": {
     "slide_type": "-"
    }
   },
   "outputs": [
    {
     "data": {
      "text/plain": [
       "7.600902459542082"
      ]
     },
     "execution_count": 188,
     "metadata": {},
     "output_type": "execute_result"
    }
   ],
   "source": [
    "log(2000)"
   ]
  },
  {
   "cell_type": "markdown",
   "metadata": {
    "slideshow": {
     "slide_type": "fragment"
    }
   },
   "source": [
    "According to the cost function we defined we should split this word, but intuition tells us we should not."
   ]
  },
  {
   "cell_type": "markdown",
   "metadata": {
    "slideshow": {
     "slide_type": "subslide"
    }
   },
   "source": [
    "## Split penalty: To prevent \"over-eager\" splitting"
   ]
  },
  {
   "cell_type": "markdown",
   "metadata": {
    "slideshow": {
     "slide_type": "-"
    }
   },
   "source": [
    "Let's say we add a plit penalty of e.g. 5 to the split value. Then:"
   ]
  },
  {
   "cell_type": "code",
   "execution_count": 201,
   "metadata": {},
   "outputs": [],
   "source": [
    "SPLIT_PENALTY = 5"
   ]
  },
  {
   "cell_type": "code",
   "execution_count": 202,
   "metadata": {
    "slideshow": {
     "slide_type": "-"
    }
   },
   "outputs": [
    {
     "data": {
      "text/plain": [
       "True"
      ]
     },
     "execution_count": 202,
     "metadata": {},
     "output_type": "execute_result"
    }
   ],
   "source": [
    "log(500) + log(500) - SPLIT_PENALTY < log(2000)"
   ]
  },
  {
   "cell_type": "markdown",
   "metadata": {
    "slideshow": {
     "slide_type": "subslide"
    }
   },
   "source": [
    "## How do we find all possible splits and select the best one?"
   ]
  },
  {
   "cell_type": "markdown",
   "metadata": {
    "slideshow": {
     "slide_type": "-"
    }
   },
   "source": [
    "Solution: Iterate over all possible solutions and select the best one"
   ]
  },
  {
   "cell_type": "code",
   "execution_count": 288,
   "metadata": {
    "slideshow": {
     "slide_type": "-"
    }
   },
   "outputs": [
    {
     "name": "stdout",
     "output_type": "stream",
     "text": [
      "rei seregning\n",
      "reis eregning\n",
      "reise regning\n",
      "reiser egning\n",
      "reisere gning\n",
      "reisereg ning\n",
      "reiseregn ing\n"
     ]
    }
   ],
   "source": [
    "word = \"reiseregning\"\n",
    "for i in range(min_word_length, len(word)-min_word_length+1):\n",
    "    print(word[:i], word[i:])"
   ]
  },
  {
   "cell_type": "markdown",
   "metadata": {
    "slideshow": {
     "slide_type": "subslide"
    }
   },
   "source": [
    "# Putting it all together"
   ]
  },
  {
   "cell_type": "code",
   "execution_count": 289,
   "metadata": {
    "slideshow": {
     "slide_type": "-"
    }
   },
   "outputs": [],
   "source": [
    "def find_best_split(word):\n",
    "    # No split\n",
    "    max_value, best_split= word_value(word), word\n",
    "    \n",
    "    # Consider all splits\n",
    "    for i in range(min_word_length, len(word)-min_word_length+1):\n",
    "        sw1, sw2 = word[:i], word[i:]\n",
    "        value = split_value2(sw1, sw2) - SPLIT_PENALTY\n",
    "        if value > max_value:\n",
    "            max_value, best_split = value, sw1 + \" \" + sw2\n",
    "    \n",
    "    return best_split, max_value"
   ]
  },
  {
   "cell_type": "code",
   "execution_count": 290,
   "metadata": {
    "slideshow": {
     "slide_type": "-"
    }
   },
   "outputs": [
    {
     "data": {
      "text/plain": [
       "('reise regning', 9.79734405655257)"
      ]
     },
     "execution_count": 290,
     "metadata": {},
     "output_type": "execute_result"
    }
   ],
   "source": [
    "find_best_split(\"reiseregning\")"
   ]
  },
  {
   "cell_type": "code",
   "execution_count": 291,
   "metadata": {
    "slideshow": {
     "slide_type": "-"
    }
   },
   "outputs": [
    {
     "data": {
      "text/plain": [
       "('bruker konto', 9.946822988014759)"
      ]
     },
     "execution_count": 291,
     "metadata": {},
     "output_type": "execute_result"
    }
   ],
   "source": [
    "find_best_split(\"brukerkonto\")"
   ]
  },
  {
   "cell_type": "markdown",
   "metadata": {
    "slideshow": {
     "slide_type": "subslide"
    }
   },
   "source": [
    "## Corner case 1: Words with glue-letters"
   ]
  },
  {
   "cell_type": "code",
   "execution_count": 292,
   "metadata": {},
   "outputs": [
    {
     "data": {
      "text/plain": [
       "('særskrivingsfeil', 1.791759469228055)"
      ]
     },
     "execution_count": 292,
     "metadata": {},
     "output_type": "execute_result"
    }
   ],
   "source": [
    "find_best_split(\"særskrivingsfeil\")"
   ]
  },
  {
   "cell_type": "code",
   "execution_count": 293,
   "metadata": {},
   "outputs": [
    {
     "data": {
      "text/plain": [
       "-1000000000.0"
      ]
     },
     "execution_count": 293,
     "metadata": {},
     "output_type": "execute_result"
    }
   ],
   "source": [
    "word_value(\"særskrivings\")"
   ]
  },
  {
   "cell_type": "code",
   "execution_count": 294,
   "metadata": {},
   "outputs": [
    {
     "data": {
      "text/plain": [
       "3.044522437723423"
      ]
     },
     "execution_count": 294,
     "metadata": {},
     "output_type": "execute_result"
    }
   ],
   "source": [
    "word_value(\"særskriving\")"
   ]
  },
  {
   "cell_type": "markdown",
   "metadata": {
    "slideshow": {
     "slide_type": "subslide"
    }
   },
   "source": [
    "## Corner case 1: Solution - consider \"remvoving\" glue letters"
   ]
  },
  {
   "cell_type": "code",
   "execution_count": 295,
   "metadata": {},
   "outputs": [],
   "source": [
    "GLUE_LETTERS = \"s\"\n",
    "EDIT_PENALTY = 1\n",
    "\n",
    "def find_best_split2(word):\n",
    "    # No split\n",
    "    max_value, best_split= word_value(word), word\n",
    "    \n",
    "    # Consider all splits\n",
    "    for i in range(min_word_length, len(word)-min_word_length+1):\n",
    "        sw1, sw2 = word[:i], word[i:]\n",
    "        value = split_value2(sw1, sw2) - SPLIT_PENALTY\n",
    "        if value > max_value:\n",
    "            max_value, best_split = value, sw1 + \" \" + sw2\n",
    "            \n",
    "        if word[i] in GLUE_LETTERS:\n",
    "            sw2 = word[i+1:]\n",
    "            value = split_value2(sw1, sw2) - SPLIT_PENALTY - EDIT_PENALTY\n",
    "            if value > max_value:\n",
    "                max_value, best_split = value, sw1 + \" \" + sw2\n",
    "    \n",
    "    return best_split, max_value"
   ]
  },
  {
   "cell_type": "markdown",
   "metadata": {
    "slideshow": {
     "slide_type": "subslide"
    }
   },
   "source": [
    "### Now, let's try to split \"særskrivingsfeil\""
   ]
  },
  {
   "cell_type": "code",
   "execution_count": 296,
   "metadata": {},
   "outputs": [
    {
     "data": {
      "text/plain": [
       "('særskriving feil', 5.468064073058205)"
      ]
     },
     "execution_count": 296,
     "metadata": {},
     "output_type": "execute_result"
    }
   ],
   "source": [
    "find_best_split2(\"særskrivingsfeil\")"
   ]
  },
  {
   "cell_type": "markdown",
   "metadata": {
    "slideshow": {
     "slide_type": "subslide"
    }
   },
   "source": [
    "## Corner case 2: Words ending on double consonants"
   ]
  },
  {
   "cell_type": "code",
   "execution_count": 297,
   "metadata": {},
   "outputs": [
    {
     "data": {
      "text/plain": [
       "('internet tilgang', 9.67788898990056)"
      ]
     },
     "execution_count": 297,
     "metadata": {},
     "output_type": "execute_result"
    }
   ],
   "source": [
    "find_best_split2(\"internettilgang\")"
   ]
  },
  {
   "cell_type": "markdown",
   "metadata": {},
   "source": [
    "The correct split should be \"internett\" + \"tilgang\""
   ]
  },
  {
   "cell_type": "markdown",
   "metadata": {
    "slideshow": {
     "slide_type": "subslide"
    }
   },
   "source": [
    "## Corner case 2: Solution - consider \"adding\" another consonant"
   ]
  },
  {
   "cell_type": "code",
   "execution_count": 298,
   "metadata": {},
   "outputs": [],
   "source": [
    "def find_best_split3(word):\n",
    "    # No split\n",
    "    max_value, best_split= word_value(word), word\n",
    "    \n",
    "    # Consider all splits\n",
    "    for i in range(min_word_length, len(word)-min_word_length+1):\n",
    "        sw1, sw2 = word[:i], word[i:]\n",
    "        value = split_value2(sw1, sw2) - SPLIT_PENALTY\n",
    "        if value > max_value:\n",
    "            max_value, best_split = value, sw1 + \" \" + sw2\n",
    "            \n",
    "        if word[i] in GLUE_LETTERS:\n",
    "            sw2 = word[i+1:]\n",
    "            value = split_value2(sw1, sw2) - SPLIT_PENALTY - EDIT_PENALTY\n",
    "            if value > max_value:\n",
    "                max_value, best_split = value, sw1 + \" \" + sw2\n",
    "                \n",
    "        if word[i-1] in 'bcdfghjklmnpqrstvxz' and word[i-1] == word[i-2]:\n",
    "            sw2 = word[i-1:]\n",
    "            value = split_value2(sw1, sw2) - SPLIT_PENALTY - EDIT_PENALTY\n",
    "            if value > max_value:\n",
    "                max_value, best_split = value, sw1 + \" \" + sw2\n",
    "    \n",
    "    return best_split, max_value"
   ]
  },
  {
   "cell_type": "markdown",
   "metadata": {
    "slideshow": {
     "slide_type": "subslide"
    }
   },
   "source": [
    "### Now, let's try to split \"internettilgang\""
   ]
  },
  {
   "cell_type": "code",
   "execution_count": 299,
   "metadata": {},
   "outputs": [
    {
     "data": {
      "text/plain": [
       "('internett tilgang', 10.246441195285314)"
      ]
     },
     "execution_count": 299,
     "metadata": {},
     "output_type": "execute_result"
    }
   ],
   "source": [
    "find_best_split3(\"internettilgang\")"
   ]
  },
  {
   "cell_type": "markdown",
   "metadata": {
    "slideshow": {
     "slide_type": "subslide"
    }
   },
   "source": [
    "## Some code clean-up"
   ]
  },
  {
   "cell_type": "code",
   "execution_count": 300,
   "metadata": {},
   "outputs": [],
   "source": [
    "def find_best_split4(word):\n",
    "    # No split\n",
    "    max_value, best_split= word_value(word), word\n",
    "    \n",
    "    # Consider all splits\n",
    "    for i in range(min_word_length, len(word)-min_word_length+1):\n",
    "        sw1 = word[:i]\n",
    "        sw1_value = word_value(sw1)\n",
    "        \n",
    "        split_options = [i]\n",
    "        if word[i] in GLUE_LETTERS:\n",
    "            split_options.append(i+1)\n",
    "        if word[i-1] in 'bcdfghjklmnpqrstvxz' and word[i-1] == word[i-2]:\n",
    "            split_options.append(i-1)\n",
    "            \n",
    "        for j in split_options:\n",
    "            sw2 = word[j:]\n",
    "            value = sw1_value + word_value(sw2) - SPLIT_PENALTY - (j!=i) * EDIT_PENALTY\n",
    "            if value > max_value:\n",
    "                max_value, best_split = value, sw1 + \" \" + sw2\n",
    "    \n",
    "    return best_split, max_value"
   ]
  },
  {
   "cell_type": "markdown",
   "metadata": {
    "slideshow": {
     "slide_type": "subslide"
    }
   },
   "source": [
    "## Corner case 3: Words consisting of more than 2 subwords"
   ]
  },
  {
   "cell_type": "code",
   "execution_count": 301,
   "metadata": {},
   "outputs": [
    {
     "data": {
      "text/plain": [
       "('førstegangs intervju', 5.6677919274124005)"
      ]
     },
     "execution_count": 301,
     "metadata": {},
     "output_type": "execute_result"
    }
   ],
   "source": [
    "find_best_split4(\"førstegangsintervju\")"
   ]
  },
  {
   "cell_type": "code",
   "execution_count": 302,
   "metadata": {},
   "outputs": [
    {
     "data": {
      "text/plain": [
       "('første gangs', 12.087372303918887)"
      ]
     },
     "execution_count": 302,
     "metadata": {},
     "output_type": "execute_result"
    }
   ],
   "source": [
    "find_best_split4(\"førstegangs\")"
   ]
  },
  {
   "cell_type": "markdown",
   "metadata": {
    "slideshow": {
     "slide_type": "fragment"
    }
   },
   "source": [
    "=> Words will not be split consistently. Not good ..."
   ]
  },
  {
   "cell_type": "markdown",
   "metadata": {
    "slideshow": {
     "slide_type": "subslide"
    }
   },
   "source": [
    "## Corner case 3: Solution - run the function recursively"
   ]
  },
  {
   "cell_type": "code",
   "execution_count": 322,
   "metadata": {},
   "outputs": [],
   "source": [
    "def find_best_split5(word):\n",
    "    # No split\n",
    "    max_value, best_split= word_value(word), word\n",
    "    \n",
    "    # Consider all splits\n",
    "    for i in range(min_word_length, len(word)-min_word_length+1):\n",
    "        sw1 = word[:i]\n",
    "        sw1_value = word_value(sw1)\n",
    "        \n",
    "        split_options = [i]\n",
    "        if word[i] in GLUE_LETTERS:\n",
    "            split_options.append(i+1)\n",
    "        if word[i-1] in 'bcdfghjklmnpqrstvxz' and word[i-1] == word[i-2]:\n",
    "            split_options.append(i-1)\n",
    "            \n",
    "        for j in split_options:\n",
    "            sw2, sw2_value = find_best_split5(word[j:])\n",
    "            value = sw1_value + sw2_value - SPLIT_PENALTY - (j!=i) * EDIT_PENALTY\n",
    "            if value > max_value:\n",
    "                max_value, best_split = value, sw1 + \" \" + sw2\n",
    "    \n",
    "    return best_split, max_value"
   ]
  },
  {
   "cell_type": "markdown",
   "metadata": {
    "slideshow": {
     "slide_type": "subslide"
    }
   },
   "source": [
    "### Now, let's try to split \"førstegangsintervju\""
   ]
  },
  {
   "cell_type": "code",
   "execution_count": 350,
   "metadata": {},
   "outputs": [
    {
     "data": {
      "text/plain": [
       "('første gang intervju', 19.370104879581454)"
      ]
     },
     "execution_count": 350,
     "metadata": {},
     "output_type": "execute_result"
    }
   ],
   "source": [
    "find_best_split5(\"førstegangsintervju\")"
   ]
  },
  {
   "cell_type": "markdown",
   "metadata": {
    "slideshow": {
     "slide_type": "subslide"
    }
   },
   "source": [
    "## Corner case 4: Eager splitting"
   ]
  },
  {
   "cell_type": "code",
   "execution_count": 319,
   "metadata": {},
   "outputs": [
    {
     "data": {
      "text/plain": [
       "('regn ing', 7.912333465235502)"
      ]
     },
     "execution_count": 319,
     "metadata": {},
     "output_type": "execute_result"
    }
   ],
   "source": [
    "find_best_split5(\"regning\")"
   ]
  },
  {
   "cell_type": "markdown",
   "metadata": {
    "slideshow": {
     "slide_type": "fragment"
    }
   },
   "source": [
    "Not all words should be split"
   ]
  },
  {
   "cell_type": "markdown",
   "metadata": {
    "slideshow": {
     "slide_type": "subslide"
    }
   },
   "source": [
    "## Corner case 4: Solution - exception list"
   ]
  },
  {
   "cell_type": "code",
   "execution_count": 329,
   "metadata": {},
   "outputs": [],
   "source": [
    "DO_NOT_SPLIT = [\"regning\"]\n",
    "\n",
    "def find_best_split6(word):\n",
    "    # No split\n",
    "    max_value, best_split= word_value(word), word\n",
    "    if word in DO_NOT_SPLIT:\n",
    "        return best_split, max_value\n",
    "    \n",
    "    # Consider all splits\n",
    "    for i in range(min_word_length, len(word)-min_word_length+1):\n",
    "        sw1 = word[:i]\n",
    "        sw1_value = word_value(sw1)\n",
    "        \n",
    "        split_options = [i]\n",
    "        if word[i] in GLUE_LETTERS:\n",
    "            split_options.append(i+1)\n",
    "        if word[i-1] in 'bcdfghjklmnpqrstvxz' and word[i-1] == word[i-2]:\n",
    "            split_options.append(i-1)\n",
    "            \n",
    "        for j in split_options:\n",
    "            sw2, sw2_value = find_best_split6(word[j:])\n",
    "            value = sw1_value + sw2_value - SPLIT_PENALTY - (j!=i) * EDIT_PENALTY\n",
    "            if value > max_value:\n",
    "                max_value, best_split = value, sw1 + \" \" + sw2\n",
    "    \n",
    "    return best_split, max_value"
   ]
  },
  {
   "cell_type": "markdown",
   "metadata": {
    "slideshow": {
     "slide_type": "subslide"
    }
   },
   "source": [
    "## Now, let's try \"regning\" again"
   ]
  },
  {
   "cell_type": "code",
   "execution_count": 330,
   "metadata": {},
   "outputs": [
    {
     "data": {
      "text/plain": [
       "('regning', 5.910796644040527)"
      ]
     },
     "execution_count": 330,
     "metadata": {},
     "output_type": "execute_result"
    }
   ],
   "source": [
    "find_best_split6(\"regning\")"
   ]
  },
  {
   "cell_type": "markdown",
   "metadata": {
    "slideshow": {
     "slide_type": "slide"
    }
   },
   "source": [
    "# Let's try our algorithm on the example from earlier"
   ]
  },
  {
   "cell_type": "code",
   "execution_count": 331,
   "metadata": {},
   "outputs": [
    {
     "data": {
      "text/plain": [
       "['Jeg har en reise regning', 'Jeg har en regning for en reise']"
      ]
     },
     "execution_count": 331,
     "metadata": {},
     "output_type": "execute_result"
    }
   ],
   "source": [
    "texts = [\n",
    "    \"Jeg har en reiseregning\",\n",
    "    \"Jeg har en regning for en reise\"\n",
    "]\n",
    "\n",
    "clean_text = lambda text: \" \".join(find_best_split6(word)[0] for word in text.split())\n",
    " \n",
    "texts2 = [clean_text(text) for text in texts]\n",
    "texts2"
   ]
  },
  {
   "cell_type": "code",
   "execution_count": 333,
   "metadata": {
    "slideshow": {
     "slide_type": "fragment"
    }
   },
   "outputs": [
    {
     "data": {
      "text/html": [
       "<div>\n",
       "<style scoped>\n",
       "    .dataframe tbody tr th:only-of-type {\n",
       "        vertical-align: middle;\n",
       "    }\n",
       "\n",
       "    .dataframe tbody tr th {\n",
       "        vertical-align: top;\n",
       "    }\n",
       "\n",
       "    .dataframe thead th {\n",
       "        text-align: right;\n",
       "    }\n",
       "</style>\n",
       "<table border=\"1\" class=\"dataframe\">\n",
       "  <thead>\n",
       "    <tr style=\"text-align: right;\">\n",
       "      <th></th>\n",
       "      <th>regning</th>\n",
       "      <th>reise</th>\n",
       "    </tr>\n",
       "  </thead>\n",
       "  <tbody>\n",
       "    <tr>\n",
       "      <th>0</th>\n",
       "      <td>1</td>\n",
       "      <td>1</td>\n",
       "    </tr>\n",
       "    <tr>\n",
       "      <th>1</th>\n",
       "      <td>1</td>\n",
       "      <td>1</td>\n",
       "    </tr>\n",
       "  </tbody>\n",
       "</table>\n",
       "</div>"
      ],
      "text/plain": [
       "   regning  reise\n",
       "0        1      1\n",
       "1        1      1"
      ]
     },
     "execution_count": 333,
     "metadata": {},
     "output_type": "execute_result"
    }
   ],
   "source": [
    "vec = CountVectorizer(stop_words=stopwords.words(\"norwegian\"))\n",
    "bow = vec.fit_transform(texts2)\n",
    "pd.DataFrame(bow.todense(), columns=vec.get_feature_names())"
   ]
  },
  {
   "cell_type": "markdown",
   "metadata": {
    "slideshow": {
     "slide_type": "fragment"
    }
   },
   "source": [
    "Text similarity"
   ]
  },
  {
   "cell_type": "code",
   "execution_count": 334,
   "metadata": {},
   "outputs": [
    {
     "data": {
      "text/plain": [
       "1.0"
      ]
     },
     "execution_count": 334,
     "metadata": {},
     "output_type": "execute_result"
    }
   ],
   "source": [
    "bow[0].dot(bow[1].T)[0,0] / bow.shape[1]"
   ]
  },
  {
   "cell_type": "markdown",
   "metadata": {
    "slideshow": {
     "slide_type": "subslide"
    }
   },
   "source": [
    "<center><img src=\"https://media1.tenor.com/images/b5b525642d31fc32571618da55f973e5/tenor.gif?itemid=4786736\"></center>"
   ]
  },
  {
   "cell_type": "markdown",
   "metadata": {
    "slideshow": {
     "slide_type": "slide"
    }
   },
   "source": [
    "# Ending notes\n",
    "\n",
    "- A compound word splitter is not the only way to solve the problem of compound words\n",
    "- Another way to approach this problem is using character-level features instead of word-level features\n",
    "- The compound word splitter may not work properly if your corpora is too small, because you may not be able to get proper word counts"
   ]
  },
  {
   "cell_type": "markdown",
   "metadata": {
    "slideshow": {
     "slide_type": "subslide"
    }
   },
   "source": [
    "## Character-level features"
   ]
  },
  {
   "cell_type": "code",
   "execution_count": 347,
   "metadata": {},
   "outputs": [
    {
     "data": {
      "text/html": [
       "<div>\n",
       "<style scoped>\n",
       "    .dataframe tbody tr th:only-of-type {\n",
       "        vertical-align: middle;\n",
       "    }\n",
       "\n",
       "    .dataframe tbody tr th {\n",
       "        vertical-align: top;\n",
       "    }\n",
       "\n",
       "    .dataframe thead th {\n",
       "        text-align: right;\n",
       "    }\n",
       "</style>\n",
       "<table border=\"1\" class=\"dataframe\">\n",
       "  <thead>\n",
       "    <tr style=\"text-align: right;\">\n",
       "      <th></th>\n",
       "      <th>br</th>\n",
       "      <th>er</th>\n",
       "      <th>a e</th>\n",
       "      <th>ari</th>\n",
       "      <th>bra</th>\n",
       "      <th>er</th>\n",
       "      <th>ism</th>\n",
       "      <th>kar</th>\n",
       "      <th>ma</th>\n",
       "      <th>r b</th>\n",
       "      <th>ris</th>\n",
       "      <th>sma</th>\n",
       "      <th>vis</th>\n",
       "    </tr>\n",
       "  </thead>\n",
       "  <tbody>\n",
       "    <tr>\n",
       "      <th>0</th>\n",
       "      <td>1</td>\n",
       "      <td>1</td>\n",
       "      <td>1</td>\n",
       "      <td>0</td>\n",
       "      <td>1</td>\n",
       "      <td>1</td>\n",
       "      <td>1</td>\n",
       "      <td>0</td>\n",
       "      <td>1</td>\n",
       "      <td>1</td>\n",
       "      <td>0</td>\n",
       "      <td>1</td>\n",
       "      <td>1</td>\n",
       "    </tr>\n",
       "    <tr>\n",
       "      <th>1</th>\n",
       "      <td>1</td>\n",
       "      <td>1</td>\n",
       "      <td>1</td>\n",
       "      <td>1</td>\n",
       "      <td>1</td>\n",
       "      <td>1</td>\n",
       "      <td>1</td>\n",
       "      <td>1</td>\n",
       "      <td>1</td>\n",
       "      <td>1</td>\n",
       "      <td>1</td>\n",
       "      <td>1</td>\n",
       "      <td>0</td>\n",
       "    </tr>\n",
       "  </tbody>\n",
       "</table>\n",
       "</div>"
      ],
      "text/plain": [
       "    br   er  a e  ari  bra  er   ism  kar  ma   r b  ris  sma  vis\n",
       "0    1    1    1    0    1    1    1    0    1    1    0    1    1\n",
       "1    1    1    1    1    1    1    1    1    1    1    1    1    0"
      ]
     },
     "execution_count": 347,
     "metadata": {},
     "output_type": "execute_result"
    }
   ],
   "source": [
    "texts = [\n",
    "    \"Visma er bra\", \"Karisma er bra\"\n",
    "]\n",
    "vec = CountVectorizer(analyzer=\"char\", ngram_range=(3,3))\n",
    "bow = vec.fit_transform(texts)\n",
    "pd.DataFrame(bow.todense(), columns=vec.get_feature_names())"
   ]
  },
  {
   "cell_type": "code",
   "execution_count": 348,
   "metadata": {},
   "outputs": [
    {
     "data": {
      "text/plain": [
       "0.69230769230769229"
      ]
     },
     "execution_count": 348,
     "metadata": {},
     "output_type": "execute_result"
    }
   ],
   "source": [
    "bow[0].dot(bow[1].T)[0,0] / bow.shape[1]"
   ]
  },
  {
   "cell_type": "markdown",
   "metadata": {
    "slideshow": {
     "slide_type": "fragment"
    }
   },
   "source": [
    "Character-level features cause other types of problems..."
   ]
  }
 ],
 "metadata": {
  "celltoolbar": "Slideshow",
  "kernelspec": {
   "display_name": "Python [conda root]",
   "language": "python",
   "name": "conda-root-py"
  },
  "language_info": {
   "codemirror_mode": {
    "name": "ipython",
    "version": 3
   },
   "file_extension": ".py",
   "mimetype": "text/x-python",
   "name": "python",
   "nbconvert_exporter": "python",
   "pygments_lexer": "ipython3",
   "version": "3.6.3"
  }
 },
 "nbformat": 4,
 "nbformat_minor": 2
}
